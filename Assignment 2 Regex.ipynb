{
 "cells": [
  {
   "cell_type": "markdown",
   "id": "f7fb0e9e",
   "metadata": {},
   "source": [
    "## Assignment 2 (Regular expression)"
   ]
  },
  {
   "cell_type": "markdown",
   "id": "69c8a46c",
   "metadata": {},
   "source": [
    "Question 1- Write a Python program to replace all occurrences of a space, comma, or dot with a colon.\n",
    "Sample Text- &#39;Python Exercises, PHP exercises.&#39;\n",
    "Expected Output: Python:Exercises::PHP: exercises:"
   ]
  },
  {
   "cell_type": "code",
   "execution_count": 1,
   "id": "d0e4e506",
   "metadata": {},
   "outputs": [
    {
     "name": "stdout",
     "output_type": "stream",
     "text": [
      "Python:Exercises::PHP:exercises:\n"
     ]
    }
   ],
   "source": [
    "import re\n",
    "\n",
    "sample_text = 'Python Exercises, PHP exercises.'\n",
    "result = re.sub(r'[ ,.]', ':', sample_text)\n",
    "print(result)\n"
   ]
  },
  {
   "cell_type": "markdown",
   "id": "d8cbabd8",
   "metadata": {},
   "source": [
    "Question 2- Create a dataframe using the dictionary below and remove everything (commas (,), !,\n",
    "XXXX, ;, etc.) from the columns except words.\n",
    "Dictionary- {&#39;SUMMARY&#39; : [&#39;hello, world!&#39;, &#39;XXXXX test&#39;, &#39;123four, five:; six...&#39;]}\n",
    "Expected output-\n",
    "0 hello world\n",
    "1 test\n",
    "2 four five six"
   ]
  },
  {
   "cell_type": "code",
   "execution_count": 16,
   "id": "8fa9dc16",
   "metadata": {},
   "outputs": [
    {
     "name": "stdout",
     "output_type": "stream",
     "text": [
      "         SUMMARY\n",
      "0    hello world\n",
      "1     XXXXX test\n",
      "2  four five six\n"
     ]
    }
   ],
   "source": [
    "import pandas as pd\n",
    "import re\n",
    "\n",
    "\n",
    "data_dict = {'SUMMARY': ['hello, world!', 'XXXXX test', '123four, five:; six...']}\n",
    "\n",
    "df = pd.DataFrame(data_dict)\n",
    "\n",
    "df['SUMMARY'] = df['SUMMARY'].apply(lambda x: re.sub(r'[^a-zA-Z\\s]', '',x))\n",
    "\n",
    "print(df)\n"
   ]
  },
  {
   "cell_type": "markdown",
   "id": "8347aebf",
   "metadata": {},
   "source": [
    "Question 3- Create a function in python to find all words that are at least 4 characters long in a\n",
    "string. The use of the re.compile() method is mandatory."
   ]
  },
  {
   "cell_type": "code",
   "execution_count": 3,
   "id": "d5c2c121",
   "metadata": {},
   "outputs": [
    {
     "name": "stdout",
     "output_type": "stream",
     "text": [
      "['This', 'sample', 'text', 'with', 'some', 'long', 'words', 'like', 'Python', 'exercise', 'programming']\n"
     ]
    }
   ],
   "source": [
    "import re\n",
    "\n",
    "def find_long_words(text):\n",
    "    pattern = re.compile(r'\\b\\w{4,}\\b')\n",
    "    return pattern.findall(text)\n",
    "\n",
    "text = \"This is a sample text with some long words like Python, exercise, and programming.\"\n",
    "result = find_long_words(text)\n",
    "print(result)\n"
   ]
  },
  {
   "cell_type": "markdown",
   "id": "75c119ec",
   "metadata": {},
   "source": [
    "Question 4- Create a function in python to find all three, four, and five character words in a string.\n",
    "The use of the re.compile() method is mandatory.\n"
   ]
  },
  {
   "cell_type": "code",
   "execution_count": 19,
   "id": "d55f0019",
   "metadata": {},
   "outputs": [
    {
     "name": "stdout",
     "output_type": "stream",
     "text": [
      "['This', 'text', 'with', 'words']\n"
     ]
    }
   ],
   "source": [
    "import re\n",
    "\n",
    "def find_specific_length_words(text):\n",
    "    pattern = re.compile(r'\\b\\w{3,5}\\b')\n",
    "    return pattern.findall(text)\n",
    "\n",
    "sample_text = \"This is a sample text with words of different lengths.\"\n",
    "result = find_specific_length_words(sample_text)\n",
    "print(result)\n",
    "\n"
   ]
  },
  {
   "cell_type": "markdown",
   "id": "ab6daa0d",
   "metadata": {},
   "source": [
    "Question 5- Create a function in Python to remove the parenthesis in a list of strings. The use of the\n",
    "re.compile() method is mandatory.\n",
    "Sample Text: [&quot;example (.com)&quot;, &quot;hr@fliprobo (.com)&quot;, &quot;github (.com)&quot;, &quot;Hello (Data Science World)&quot;,\n",
    "&quot;Data (Scientist)&quot;]\n",
    "Expected Output:\n",
    "example.com\n",
    "hr@fliprobo.com\n",
    "github.com\n",
    "Hello Data Science World\n",
    "\n",
    "Data Scientist"
   ]
  },
  {
   "cell_type": "code",
   "execution_count": 20,
   "id": "5844e06b",
   "metadata": {},
   "outputs": [
    {
     "name": "stdout",
     "output_type": "stream",
     "text": [
      "['example ', 'hr@fliprobo ', 'github ', 'Hello ', 'Data ']\n"
     ]
    }
   ],
   "source": [
    "import re\n",
    "\n",
    "sample_text = [\"example (.com)\", \"hr@fliprobo (.com)\", \"github (.com)\", \"Hello (Data Science World)\", \"Data (Scientist)\"]\n",
    "\n",
    "def remove_parenthesis(strings):\n",
    "    pattern = re.compile(r'\\((.*?)\\)')\n",
    "    return [pattern.sub('', s) for s in strings]\n",
    "\n",
    "result = remove_parenthesis(sample_text)\n",
    "print(result)\n"
   ]
  },
  {
   "cell_type": "markdown",
   "id": "c7278bc9",
   "metadata": {},
   "source": [
    "Question 6- Write a python program to remove the parenthesis area from the text stored in the text\n",
    "file using Regular Expression.\n",
    "Sample Text: [&quot;example (.com)&quot;, &quot;hr@fliprobo (.com)&quot;, &quot;github (.com)&quot;, &quot;Hello (Data Science World)&quot;,\n",
    "&quot;Data (Scientist)&quot;]\n",
    "Expected Output: [&quot;example&quot;, &quot;hr@fliprobo&quot;, &quot;github&quot;, &quot;Hello&quot;, &quot;Data&quot;]\n",
    "Note- Store given sample text in the text file and then to remove the parenthesis area from the text."
   ]
  },
  {
   "cell_type": "code",
   "execution_count": 21,
   "id": "666c8fce",
   "metadata": {},
   "outputs": [
    {
     "name": "stdout",
     "output_type": "stream",
     "text": [
      "['example ', 'hr@fliprobo ', 'github ', 'Hello ', 'Data ']\n"
     ]
    }
   ],
   "source": [
    "import re\n",
    "\n",
    "with open(\"sample_text.txt\", \"w\") as file:\n",
    "    file.write(str(sample_text))\n",
    "\n",
    "with open(\"sample_text.txt\", \"r\") as file:\n",
    "    text = file.read()\n",
    "\n",
    "pattern = re.compile(r'\\((.*?)\\)')\n",
    "result = pattern.sub('', text)\n",
    "print(result)\n"
   ]
  },
  {
   "cell_type": "markdown",
   "id": "6b252ad9",
   "metadata": {},
   "source": [
    "Question 7- Write a regular expression in Python to split a string into uppercase letters.\n",
    "Sample text: “ImportanceOfRegularExpressionsInPython”\n",
    "Expected Output: [‘Importance’, ‘Of’, ‘Regular’, ‘Expression’, ‘In’, ‘Python’]\n"
   ]
  },
  {
   "cell_type": "code",
   "execution_count": 22,
   "id": "406d3d45",
   "metadata": {},
   "outputs": [
    {
     "name": "stdout",
     "output_type": "stream",
     "text": [
      "['Importance', 'Of', 'Regular', 'Expressions', 'In', 'Python']\n"
     ]
    }
   ],
   "source": [
    "import re\n",
    "\n",
    "sample_text = \"ImportanceOfRegularExpressionsInPython\"\n",
    "result = re.findall(r'[A-Z][a-z]*', sample_text)\n",
    "print(result)\n"
   ]
  },
  {
   "cell_type": "markdown",
   "id": "f76e39a6",
   "metadata": {},
   "source": [
    "Question 8- Create a function in python to insert spaces between words starting with numbers.\n",
    "Sample Text: “RegularExpression1IsAn2ImportantTopic3InPython&quot;\n",
    "Expected Output: RegularExpression 1IsAn 2ImportantTopic 3InPython"
   ]
  },
  {
   "cell_type": "code",
   "execution_count": 23,
   "id": "c01a318d",
   "metadata": {},
   "outputs": [
    {
     "name": "stdout",
     "output_type": "stream",
     "text": [
      "RegularExpression1 IsAn2 ImportantTopic3 InPython\n"
     ]
    }
   ],
   "source": [
    "import re\n",
    "\n",
    "sample_text = \"RegularExpression1IsAn2ImportantTopic3InPython\"\n",
    "result = re.sub(r'(?<=[0-9])(?=[A-Z])', ' ', sample_text)\n",
    "print(result)\n"
   ]
  },
  {
   "cell_type": "markdown",
   "id": "c645239d",
   "metadata": {},
   "source": [
    "Question 9- Create a function in python to insert spaces between words starting with capital letters\n",
    "or with numbers.\n",
    "Sample Text: “RegularExpression1IsAn2ImportantTopic3InPython&quot;\n",
    "Expected Output: RegularExpression 1 IsAn 2 ImportantTopic 3 InPython"
   ]
  },
  {
   "cell_type": "code",
   "execution_count": 24,
   "id": "a375d3f2",
   "metadata": {},
   "outputs": [
    {
     "name": "stdout",
     "output_type": "stream",
     "text": [
      "RegularExpression1 IsAn2 ImportantTopic3 InPython\n"
     ]
    }
   ],
   "source": [
    "import re\n",
    "\n",
    "sample_text = \"RegularExpression1IsAn2ImportantTopic3InPython\"\n",
    "result = re.sub(r'(?<=[0-9A-Z])(?=[A-Z])', ' ', sample_text)\n",
    "print(result)\n"
   ]
  },
  {
   "cell_type": "markdown",
   "id": "8a49e9e3",
   "metadata": {},
   "source": [
    "Question 10- Use the github link below to read the data and create a dataframe. After creating the\n",
    "dataframe extract the first 6 letters of each country and store in the dataframe under a new column\n",
    "called first_five_letters.\n",
    "Github Link-\n",
    "https://raw.githubusercontent.com/dsrscientist/DSData/master/happiness_score_dataset.csv"
   ]
  },
  {
   "cell_type": "code",
   "execution_count": 25,
   "id": "a7568a89",
   "metadata": {},
   "outputs": [
    {
     "name": "stdout",
     "output_type": "stream",
     "text": [
      "0      Switze\n",
      "1      Icelan\n",
      "2      Denmar\n",
      "3      Norway\n",
      "4      Canada\n",
      "        ...  \n",
      "153    Rwanda\n",
      "154     Benin\n",
      "155     Syria\n",
      "156    Burund\n",
      "157      Togo\n",
      "Name: first_five_letters, Length: 158, dtype: object\n"
     ]
    }
   ],
   "source": [
    "import pandas as pd\n",
    "\n",
    "url = \"https://raw.githubusercontent.com/dsrscientist/DSData/master/happiness_score_dataset.csv\"\n",
    "df = pd.read_csv(url)\n",
    "\n",
    "df['first_five_letters'] = df['Country'].apply(lambda x: x[:6])\n",
    "print(df['first_five_letters'])\n"
   ]
  },
  {
   "cell_type": "markdown",
   "id": "fbd3190c",
   "metadata": {},
   "source": [
    "Question 11- Write a Python program to match a string that contains only upper and lowercase\n",
    "letters, numbers, and underscores."
   ]
  },
  {
   "cell_type": "code",
   "execution_count": 26,
   "id": "ad5f2c13",
   "metadata": {},
   "outputs": [
    {
     "name": "stdout",
     "output_type": "stream",
     "text": [
      "True\n"
     ]
    }
   ],
   "source": [
    "import re\n",
    "\n",
    "def check_valid_string(s):\n",
    "    pattern = re.compile(r'^[a-zA-Z0-9_]+$')\n",
    "    return bool(pattern.match(s))\n",
    "\n",
    "test_string = \"Abcd123_\"\n",
    "result = check_valid_string(test_string)\n",
    "print(result)\n"
   ]
  },
  {
   "cell_type": "markdown",
   "id": "78bf4cce",
   "metadata": {},
   "source": [
    "Question 12- Write a Python program where a string will start with a specific number."
   ]
  },
  {
   "cell_type": "code",
   "execution_count": 27,
   "id": "ba287ef2",
   "metadata": {},
   "outputs": [
    {
     "name": "stdout",
     "output_type": "stream",
     "text": [
      "True\n"
     ]
    }
   ],
   "source": [
    "import re\n",
    "\n",
    "def starts_with_number(s, num):\n",
    "    pattern = re.compile(fr'^{num}')\n",
    "    return bool(pattern.match(s))\n",
    "\n",
    "test_string = \"123abc\"\n",
    "number_to_start_with = \"123\"\n",
    "result = starts_with_number(test_string, number_to_start_with)\n",
    "print(result)\n"
   ]
  },
  {
   "cell_type": "markdown",
   "id": "5a1940df",
   "metadata": {},
   "source": [
    "Question 13- Write a Python program to remove leading zeros from an IP address\n"
   ]
  },
  {
   "cell_type": "code",
   "execution_count": 28,
   "id": "9cfda94f",
   "metadata": {},
   "outputs": [
    {
     "name": "stdout",
     "output_type": "stream",
     "text": [
      "192.12.68.1\n"
     ]
    }
   ],
   "source": [
    "import re\n",
    "\n",
    "def remove_leading_zeros(ip_address):\n",
    "    parts = ip_address.split('.')\n",
    "    cleaned_parts = [str(int(part)) for part in parts]\n",
    "    return '.'.join(cleaned_parts)\n",
    "\n",
    "ip_address = \"192.012.068.001\"\n",
    "result = remove_leading_zeros(ip_address)\n",
    "print(result)\n"
   ]
  },
  {
   "cell_type": "markdown",
   "id": "13dab068",
   "metadata": {},
   "source": [
    "Question 14- Write a regular expression in python to match a date string in the form of Month name\n",
    "followed by day number and year stored in a text file.\n",
    "Sample text : &#39; On August 15th 1947 that India was declared independent from British colonialism, and\n",
    "the reins of control were handed over to the leaders of the Country’.\n",
    "Expected Output- August 15th 1947\n",
    "Note- Store given sample text in the text file and then extract the date string asked format."
   ]
  },
  {
   "cell_type": "code",
   "execution_count": 29,
   "id": "bec1498b",
   "metadata": {},
   "outputs": [
    {
     "name": "stdout",
     "output_type": "stream",
     "text": [
      "August 15th 1947\n"
     ]
    }
   ],
   "source": [
    "import re\n",
    "\n",
    "sample_text = ' On August 15th 1947 that India was declared independent from British colonialism, and the reins of control were handed over to the leaders of the Country.'\n",
    "pattern = re.compile(r'\\b([A-Z][a-z]+ \\d{1,2}[a-z]{0,2} \\d{4})\\b')\n",
    "result = pattern.search(sample_text).group(1)\n",
    "print(result)\n"
   ]
  },
  {
   "cell_type": "markdown",
   "id": "64844b59",
   "metadata": {},
   "source": [
    "Question 15- Write a Python program to search some literals strings in a string.\n",
    "Sample text : &#39;The quick brown fox jumps over the lazy dog.&#39;\n",
    "Searched words : &#39;fox&#39;, &#39;dog&#39;, &#39;horse&#39;\n"
   ]
  },
  {
   "cell_type": "code",
   "execution_count": 30,
   "id": "63863682",
   "metadata": {},
   "outputs": [
    {
     "name": "stdout",
     "output_type": "stream",
     "text": [
      "['fox', 'dog']\n"
     ]
    }
   ],
   "source": [
    "def search_literals(text, words):\n",
    "    found_words = [word for word in words if word in text]\n",
    "    return found_words\n",
    "\n",
    "sample_text = 'The quick brown fox jumps over the lazy dog.'\n",
    "searched_words = ['fox', 'dog', 'horse']\n",
    "result = search_literals(sample_text, searched_words)\n",
    "print(result)\n"
   ]
  },
  {
   "cell_type": "markdown",
   "id": "038f89cc",
   "metadata": {},
   "source": [
    "Question 16- Write a Python program to search a literals string in a string and also find the location\n",
    "within the original string where the pattern occurs\n",
    "Sample text : &#39;The quick brown fox jumps over the lazy dog.&#39;\n",
    "Searched words : &#39;fox&#39;"
   ]
  },
  {
   "cell_type": "code",
   "execution_count": 31,
   "id": "3ebcf3ea",
   "metadata": {},
   "outputs": [
    {
     "name": "stdout",
     "output_type": "stream",
     "text": [
      "[16]\n"
     ]
    }
   ],
   "source": [
    "def search_literal_location(text, word):\n",
    "    locations = [m.start() for m in re.finditer(word, text)]\n",
    "    return locations\n",
    "\n",
    "sample_text = 'The quick brown fox jumps over the lazy dog.'\n",
    "searched_word = 'fox'\n",
    "result = search_literal_location(sample_text, searched_word)\n",
    "print(result)\n"
   ]
  },
  {
   "cell_type": "markdown",
   "id": "3c36e101",
   "metadata": {},
   "source": [
    "Question 17- Write a Python program to find the substrings within a string.\n",
    "Sample text : &#39;Python exercises, PHP exercises, C# exercises&#39;\n",
    "Pattern : &#39;exercises&#39;."
   ]
  },
  {
   "cell_type": "code",
   "execution_count": 32,
   "id": "7a2c8bbc",
   "metadata": {},
   "outputs": [
    {
     "name": "stdout",
     "output_type": "stream",
     "text": [
      "['exercises', 'exercises', 'exercises']\n"
     ]
    }
   ],
   "source": [
    "def find_substrings(text, pattern):\n",
    "    return re.findall(pattern, text)\n",
    "\n",
    "sample_text = 'Python exercises, PHP exercises, C# exercises'\n",
    "pattern = 'exercises'\n",
    "result = find_substrings(sample_text, pattern)\n",
    "print(result)\n"
   ]
  },
  {
   "cell_type": "markdown",
   "id": "0ed3ea3f",
   "metadata": {},
   "source": [
    "Question 18- Write a Python program to find the occurrence and position of the substrings within a\n",
    "string.\n"
   ]
  },
  {
   "cell_type": "code",
   "execution_count": 33,
   "id": "6763e718",
   "metadata": {},
   "outputs": [
    {
     "name": "stdout",
     "output_type": "stream",
     "text": [
      "[(7, 16), (22, 31), (36, 45)]\n"
     ]
    }
   ],
   "source": [
    "def find_occurrence_positions(text, substring):\n",
    "    positions = [(m.start(), m.end()) for m in re.finditer(substring, text)]\n",
    "    return positions\n",
    "\n",
    "sample_text = 'Python exercises, PHP exercises, C# exercises'\n",
    "substring = 'exercises'\n",
    "result = find_occurrence_positions(sample_text, substring)\n",
    "print(result)\n"
   ]
  },
  {
   "cell_type": "markdown",
   "id": "fc8bb53b",
   "metadata": {},
   "source": [
    "Question 19- Write a Python program to convert a date of yyyy-mm-dd format to dd-mm-yyyy\n",
    "format.\n"
   ]
  },
  {
   "cell_type": "code",
   "execution_count": 34,
   "id": "611dd275",
   "metadata": {},
   "outputs": [
    {
     "name": "stdout",
     "output_type": "stream",
     "text": [
      "07-03-2022\n"
     ]
    }
   ],
   "source": [
    "from datetime import datetime\n",
    "\n",
    "def convert_date_format(date_str):\n",
    "    date_obj = datetime.strptime(date_str, '%Y-%m-%d')\n",
    "    return date_obj.strftime('%d-%m-%Y')\n",
    "\n",
    "date_str = '2022-03-07'\n",
    "result = convert_date_format(date_str)\n",
    "print(result)\n"
   ]
  },
  {
   "cell_type": "markdown",
   "id": "b2eca991",
   "metadata": {},
   "source": [
    "Question 20- Create a function in python to find all decimal numbers with a precision of 1 or 2 in a\n",
    "string. The use of the re.compile() method is mandatory.\n",
    "Sample Text: &quot;01.12 0132.123 2.31875 145.8 3.01 27.25 0.25&quot;\n",
    "Expected Output: [&#39;01.12&#39;, &#39;145.8&#39;, &#39;3.01&#39;, &#39;27.25&#39;, &#39;0.25&#39;]"
   ]
  },
  {
   "cell_type": "code",
   "execution_count": 35,
   "id": "0b12f533",
   "metadata": {},
   "outputs": [
    {
     "name": "stdout",
     "output_type": "stream",
     "text": [
      "['01.12', '145.8', '3.01', '27.25', '0.25']\n"
     ]
    }
   ],
   "source": [
    "import re\n",
    "\n",
    "def find_decimal_numbers(text):\n",
    "    pattern = re.compile(r'\\b\\d+\\.\\d{1,2}\\b')\n",
    "    return pattern.findall(text)\n",
    "\n",
    "sample_text = \"01.12 0132.123 2.31875 145.8 3.01 27.25 0.25\"\n",
    "result = find_decimal_numbers(sample_text)\n",
    "print(result)\n"
   ]
  },
  {
   "cell_type": "markdown",
   "id": "fbdf9c38",
   "metadata": {},
   "source": [
    "Question 21- Write a Python program to separate and print the numbers and their position of a\n",
    "given string.\n"
   ]
  },
  {
   "cell_type": "code",
   "execution_count": 36,
   "id": "fbb29582",
   "metadata": {},
   "outputs": [
    {
     "name": "stdout",
     "output_type": "stream",
     "text": [
      "Numbers: ['500', '20']\n",
      "Positions: [26, 50]\n"
     ]
    }
   ],
   "source": [
    "import re\n",
    "\n",
    "def separate_numbers_and_positions(text):\n",
    "    numbers = re.findall(r'\\b\\d+\\b', text)\n",
    "    positions = [m.start() for m in re.finditer(r'\\b\\d+\\b', text)]\n",
    "    return numbers, positions\n",
    "\n",
    "sample_text = \"The price of the item is $500 and the discount is 20%.\"\n",
    "result_numbers, result_positions = separate_numbers_and_positions(sample_text)\n",
    "print(\"Numbers:\", result_numbers)\n",
    "print(\"Positions:\", result_positions)\n"
   ]
  },
  {
   "cell_type": "markdown",
   "id": "ff1fc97b",
   "metadata": {},
   "source": [
    "Question 22- Write a regular expression in python program to extract maximum/largest numeric\n",
    "value from a string.\n",
    "Sample Text: &#39;My marks in each semester are: 947, 896, 926, 524, 734, 950, 642&#39;\n",
    "Expected Output: 950"
   ]
  },
  {
   "cell_type": "code",
   "execution_count": 37,
   "id": "b77088e7",
   "metadata": {},
   "outputs": [
    {
     "name": "stdout",
     "output_type": "stream",
     "text": [
      "950\n"
     ]
    }
   ],
   "source": [
    "import re\n",
    "\n",
    "sample_text = 'My marks in each semester are: 947, 896, 926, 524, 734, 950, 642'\n",
    "result = max(map(int, re.findall(r'\\b\\d+\\b', sample_text)))\n",
    "print(result)\n"
   ]
  },
  {
   "cell_type": "markdown",
   "id": "0e862c8b",
   "metadata": {},
   "source": [
    "Question 23- Create a function in python to insert spaces between words starting with capital\n",
    "letters.\n",
    "Sample Text: “RegularExpressionIsAnImportantTopicInPython&quot;\n",
    "Expected Output: Regular Expression Is An Important Topic In Python\n"
   ]
  },
  {
   "cell_type": "code",
   "execution_count": 38,
   "id": "43192ddd",
   "metadata": {},
   "outputs": [
    {
     "name": "stdout",
     "output_type": "stream",
     "text": [
      "Regular Expression Is An Important Topic In Python\n"
     ]
    }
   ],
   "source": [
    "import re\n",
    "\n",
    "def insert_spaces_before_capitals(text):\n",
    "    return re.sub(r'(?<=[a-z])([A-Z])', r' \\1', text)\n",
    "\n",
    "sample_text = \"RegularExpressionIsAnImportantTopicInPython\"\n",
    "result = insert_spaces_before_capitals(sample_text)\n",
    "print(result)\n"
   ]
  },
  {
   "cell_type": "markdown",
   "id": "bd314dac",
   "metadata": {},
   "source": [
    "Question 24- Python regex to find sequences of one upper case letter followed by lower case letters\n"
   ]
  },
  {
   "cell_type": "code",
   "execution_count": 39,
   "id": "e6f2ef87",
   "metadata": {},
   "outputs": [
    {
     "name": "stdout",
     "output_type": "stream",
     "text": [
      "['Find', 'Sequences', 'Of', 'One', 'Uppercase', 'Letter', 'Followed', 'By', 'Lowercase', 'Letters']\n"
     ]
    }
   ],
   "source": [
    "import re\n",
    "\n",
    "def find_uppercase_sequences(text):\n",
    "    return re.findall(r'\\b[A-Z][a-z]*\\b', text)\n",
    "\n",
    "sample_text = \"Find Sequences Of One Uppercase Letter Followed By Lowercase Letters\"\n",
    "result = find_uppercase_sequences(sample_text)\n",
    "print(result)\n"
   ]
  },
  {
   "cell_type": "markdown",
   "id": "a23ca88c",
   "metadata": {},
   "source": [
    "Question 25- Write a Python program to remove continuous duplicate words from Sentence using\n",
    "Regular Expression.\n",
    "Sample Text: &quot;Hello hello world world&quot;\n",
    "Expected Output: Hello hello world"
   ]
  },
  {
   "cell_type": "code",
   "execution_count": 40,
   "id": "626ace7c",
   "metadata": {},
   "outputs": [
    {
     "name": "stdout",
     "output_type": "stream",
     "text": [
      "Hello hello world\n"
     ]
    }
   ],
   "source": [
    "import re\n",
    "\n",
    "def remove_continuous_duplicates(sentence):\n",
    "    return re.sub(r'\\b(\\w+)( \\1\\b)+', r'\\1', sentence)\n",
    "\n",
    "sample_text = \"Hello hello world world\"\n",
    "result = remove_continuous_duplicates(sample_text)\n",
    "print(result)\n"
   ]
  },
  {
   "cell_type": "markdown",
   "id": "ca126111",
   "metadata": {},
   "source": [
    "Question 26- Write a python program using RegEx to accept string ending with alphanumeric\n",
    "character."
   ]
  },
  {
   "cell_type": "code",
   "execution_count": 41,
   "id": "365004a7",
   "metadata": {},
   "outputs": [
    {
     "name": "stdout",
     "output_type": "stream",
     "text": [
      "True\n"
     ]
    }
   ],
   "source": [
    "import re\n",
    "\n",
    "def accept_string_ending_with_alphanumeric(text):\n",
    "    pattern = re.compile(r'.*[a-zA-Z0-9]$')\n",
    "    return bool(pattern.match(text))\n",
    "\n",
    "test_string = \"This is a string123\"\n",
    "result = accept_string_ending_with_alphanumeric(test_string)\n",
    "print(result)\n"
   ]
  },
  {
   "cell_type": "markdown",
   "id": "56634508",
   "metadata": {},
   "source": [
    "Question 27-Write a python program using RegEx to extract the hashtags.\n",
    "Sample Text: &quot;&quot;&quot;RT @kapil_kausik: #Doltiwal I mean #xyzabc is &quot;hurt&quot; by #Demonetization as the same\n",
    "has rendered USELESS &lt;ed&gt;&lt;U+00A0&gt;&lt;U+00BD&gt;&lt;ed&gt;&lt;U+00B1&gt;&lt;U+0089&gt; &quot;acquired funds&quot; No wo&quot;&quot;&quot;\n",
    "Expected Output: [&#39;#Doltiwal&#39;, &#39;#xyzabc&#39;, &#39;#Demonetization&#39;]"
   ]
  },
  {
   "cell_type": "code",
   "execution_count": 42,
   "id": "9ddf43ae",
   "metadata": {},
   "outputs": [
    {
     "name": "stdout",
     "output_type": "stream",
     "text": [
      "['#Doltiwal', '#xyzabc', '#Demonetization']\n"
     ]
    }
   ],
   "source": [
    "import re\n",
    "\n",
    "def extract_hashtags(text):\n",
    "    return re.findall(r'#\\w+', text)\n",
    "\n",
    "sample_text = \"\"\"RT @kapil_kausik: #Doltiwal I mean #xyzabc is \"hurt\" by #Demonetization as the same\n",
    "has rendered USELESS <ed><U+00A0><U+00BD><ed><U+00B1><U+0089> \"acquired funds\" No wo\"\"\"\n",
    "result = extract_hashtags(sample_text)\n",
    "print(result)\n"
   ]
  },
  {
   "cell_type": "markdown",
   "id": "42c41681",
   "metadata": {},
   "source": [
    "Question 28- Write a python program using RegEx to remove &lt;U+..&gt; like symbols\n",
    "Check the below sample text, there are strange symbols something of the sort &lt;U+..&gt; all over the place.\n",
    "You need to come up with a general Regex expression that will cover all such symbols.\n",
    "Sample Text: &quot;@Jags123456 Bharat band on\n",
    "28??&lt;ed&gt;&lt;U+00A0&gt;&lt;U+00BD&gt;&lt;ed&gt;&lt;U+00B8&gt;&lt;U+0082&gt;Those who are protesting #demonetization are\n",
    "all different party leaders&quot;\n",
    "Expected Output: @Jags123456 Bharat band on 28??&lt;ed&gt;&lt;ed&gt;Those who are protesting\n",
    "#demonetization are all different party leaders\n"
   ]
  },
  {
   "cell_type": "code",
   "execution_count": 43,
   "id": "59513c27",
   "metadata": {},
   "outputs": [
    {
     "name": "stdout",
     "output_type": "stream",
     "text": [
      "@Jags123456 Bharat band on 28??<ed><ed>Those who are protesting #demonetization are all different party leaders\n"
     ]
    }
   ],
   "source": [
    "import re\n",
    "\n",
    "def remove_U_plus_symbols(text):\n",
    "    return re.sub(r'<U\\+[0-9A-Fa-f]+>', '', text)\n",
    "\n",
    "sample_text = \"@Jags123456 Bharat band on 28??<ed><U+00A0><U+00BD><ed><U+00B8><U+0082>Those who are protesting #demonetization are all different party leaders\"\n",
    "result = remove_U_plus_symbols(sample_text)\n",
    "print(result)\n"
   ]
  },
  {
   "cell_type": "markdown",
   "id": "c54677db",
   "metadata": {},
   "source": [
    "Question 29- Write a python program to extract dates from the text stored in the text file.\n",
    "Sample Text: Ron was born on 12-09-1992 and he was admitted to school 15-12-1999.\n",
    "Note- Store this sample text in the file and then extract dates.\n"
   ]
  },
  {
   "cell_type": "code",
   "execution_count": 44,
   "id": "9b4c62c0",
   "metadata": {},
   "outputs": [
    {
     "name": "stdout",
     "output_type": "stream",
     "text": [
      "['12-09-1992', '15-12-1999']\n"
     ]
    }
   ],
   "source": [
    "import re\n",
    "\n",
    "with open(\"sample_text.txt\", \"w\") as file:\n",
    "    file.write(\"Ron was born on 12-09-1992 and he was admitted to school 15-12-1999.\")\n",
    "\n",
    "with open(\"sample_text.txt\", \"r\") as file:\n",
    "    text = file.read()\n",
    "\n",
    "dates = re.findall(r'\\b\\d{2}-\\d{2}-\\d{4}\\b', text)\n",
    "print(dates)\n"
   ]
  },
  {
   "cell_type": "markdown",
   "id": "1adbe00b",
   "metadata": {},
   "source": [
    "Question 30- Create a function in python to remove all words from a string of length between 2 and\n",
    "4.\n",
    "The use of the re.compile() method is mandatory.\n",
    "Sample Text: &quot;The following example creates an ArrayList with a capacity of 50 elements. 4 elements\n",
    "are then added to the ArrayList and the ArrayList is trimmed accordingly.&quot;\n",
    "Expected Output: following example creates ArrayList a capacity elements. 4 elements added ArrayList\n",
    "ArrayList trimmed accordingly."
   ]
  },
  {
   "cell_type": "code",
   "execution_count": 45,
   "id": "613fd366",
   "metadata": {},
   "outputs": [
    {
     "name": "stdout",
     "output_type": "stream",
     "text": [
      " following example creates  ArrayList  a capacity   elements. 4 elements   added   ArrayList   ArrayList  trimmed accordingly.\n"
     ]
    }
   ],
   "source": [
    "import re\n",
    "\n",
    "def remove_words_by_length(text, min_len, max_len):\n",
    "    pattern = re.compile(r'\\b\\w{%d,%d}\\b' % (min_len, max_len))\n",
    "    return pattern.sub('', text)\n",
    "\n",
    "sample_text = \"The following example creates an ArrayList with a capacity of 50 elements. 4 elements are then added to the ArrayList and the ArrayList is trimmed accordingly.\"\n",
    "result = remove_words_by_length(sample_text, 2, 4)\n",
    "print(result)\n"
   ]
  },
  {
   "cell_type": "code",
   "execution_count": null,
   "id": "8dde2fcf",
   "metadata": {},
   "outputs": [],
   "source": []
  },
  {
   "cell_type": "code",
   "execution_count": null,
   "id": "e0452308",
   "metadata": {},
   "outputs": [],
   "source": []
  },
  {
   "cell_type": "code",
   "execution_count": null,
   "id": "917d0713",
   "metadata": {},
   "outputs": [],
   "source": []
  },
  {
   "cell_type": "code",
   "execution_count": null,
   "id": "5e1701d9",
   "metadata": {},
   "outputs": [],
   "source": []
  },
  {
   "cell_type": "code",
   "execution_count": null,
   "id": "48f630a7",
   "metadata": {},
   "outputs": [],
   "source": []
  },
  {
   "cell_type": "code",
   "execution_count": null,
   "id": "40da0c5e",
   "metadata": {},
   "outputs": [],
   "source": []
  }
 ],
 "metadata": {
  "kernelspec": {
   "display_name": "Python 3 (ipykernel)",
   "language": "python",
   "name": "python3"
  },
  "language_info": {
   "codemirror_mode": {
    "name": "ipython",
    "version": 3
   },
   "file_extension": ".py",
   "mimetype": "text/x-python",
   "name": "python",
   "nbconvert_exporter": "python",
   "pygments_lexer": "ipython3",
   "version": "3.9.13"
  }
 },
 "nbformat": 4,
 "nbformat_minor": 5
}
